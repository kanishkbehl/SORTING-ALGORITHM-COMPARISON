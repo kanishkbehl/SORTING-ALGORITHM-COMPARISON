{
  "nbformat": 4,
  "nbformat_minor": 0,
  "metadata": {
    "colab": {
      "provenance": [],
      "include_colab_link": true
    },
    "kernelspec": {
      "name": "python3",
      "display_name": "Python 3"
    },
    "language_info": {
      "name": "python"
    }
  },
  "cells": [
    {
      "cell_type": "markdown",
      "metadata": {
        "id": "view-in-github",
        "colab_type": "text"
      },
      "source": [
        "<a href=\"https://colab.research.google.com/github/Raghavgarg12/Mini-Projects/blob/main/Sorting%20Algorithms%20Comparison/SortingTest.ipynb\" target=\"_parent\"><img src=\"https://colab.research.google.com/assets/colab-badge.svg\" alt=\"Open In Colab\"/></a>"
      ]
    },
    {
      "cell_type": "code",
      "source": [
        "import seaborn as sns\n",
        "import matplotlib.pyplot as plt\n",
        "import sys\n",
        "sys.setrecursionlimit(5000)\n",
        "print(sys.getrecursionlimit())\n"
      ],
      "metadata": {
        "id": "A7Bb93iSgWQk",
        "colab": {
          "base_uri": "https://localhost:8080/"
        },
        "outputId": "e6e963ec-c533-4fb5-85ea-4653dbb564cd"
      },
      "execution_count": null,
      "outputs": [
        {
          "output_type": "stream",
          "name": "stdout",
          "text": [
            "5000\n"
          ]
        }
      ]
    },
    {
      "cell_type": "code",
      "source": [
        "import time\n",
        "import random as r \n",
        "\n",
        "def bubbleSort(arr):\n",
        " t1 = time.time()\n",
        " n = len(arr)\n",
        " for i in range(n):\n",
        "  for j in range(0, n - i - 1):\n",
        "   if arr[j] > arr[j + 1]:\n",
        "    arr[j], arr[j + 1] = arr[j + 1], arr[j]\n",
        " t2 = time.time()    \n",
        " return(t2 - t1)      \n",
        "\n",
        "\n",
        "def selectionSort(array, size):\n",
        " t1 = time.time()\n",
        " for s in range(size):\n",
        "  min_idx = s\t\t\n",
        "  for i in range(s + 1, size):\n",
        "   if array[i] < array[min_idx]:\n",
        "    min_idx = i\n",
        " t2 = time.time()\n",
        " return(t2-t1)\n",
        "\n",
        "def insertion_sort(list1):\n",
        "    \n",
        "    t1 = time.time()\n",
        "    for i in range(1, len(list1)):\n",
        "        a = list1[i]\n",
        "        j = i - 1\n",
        "        while j >= 0 and a < list1[j]:\n",
        "            list1[j + 1] = list1[j]\n",
        "            j -= 1\n",
        "        list1[j + 1] = a\n",
        "    t2 = time.time()    \n",
        "    return (t2-t1)\n",
        "\n",
        "\n",
        "def shell_sort(my_list, list_len):\n",
        "  t1 = time.time()\n",
        "  interval = list_len // 2\n",
        "  while interval > 0:\n",
        "    for i in range(interval, list_len):\n",
        "      temp = my_list[i]\n",
        "      j = i\n",
        "      while j >= interval and my_list[j - interval] > temp:\n",
        "        my_list[j] = my_list[j - interval]\n",
        "        j -= interval\n",
        "        my_list[j] = temp\n",
        "      interval //= 2\n",
        "  t2 = time.time()\n",
        "  return(t2-t1) \n",
        "\n",
        "def merge(arr, l, m, r):\n",
        "\tn1 = m - l + 1\n",
        "\tn2 = r - m\n",
        "\n",
        "\n",
        "\tL = [0] * (n1)\n",
        "\tR = [0] * (n2)\n",
        "\n",
        "\t\n",
        "\tfor i in range(0, n1):\n",
        "\t\tL[i] = arr[l + i]\n",
        "\n",
        "\tfor j in range(0, n2):\n",
        "\t\tR[j] = arr[m + 1 + j]\n",
        "\n",
        "\t\n",
        "\ti = 0\t\n",
        "\tj = 0\t \n",
        "\tk = l\t\n",
        "\n",
        "\twhile i < n1 and j < n2:\n",
        "\t\tif L[i] <= R[j]:\n",
        "\t\t\tarr[k] = L[i]\n",
        "\t\t\ti += 1\n",
        "\t\telse:\n",
        "\t\t\tarr[k] = R[j]\n",
        "\t\t\tj += 1\n",
        "\t\tk += 1\n",
        "\twhile i < n1:\n",
        "\t\tarr[k] = L[i]\n",
        "\t\ti += 1\n",
        "\t\tk += 1\n",
        "\twhile j < n2:\n",
        "\t\tarr[k] = R[j]\n",
        "\t\tj += 1\n",
        "\t\tk += 1\n",
        "\n",
        "\n",
        "def mergeSort(arr, l, r):\n",
        " t1 = time.time()\n",
        " if l < r:\n",
        "     m = l+(r-l)//2\n",
        "     mergeSort(arr, l, m)\n",
        "     mergeSort(arr, m+1, r)\n",
        "     merge(arr, l, m, r)\n",
        " t2 = time.time()\n",
        " return(t2-t1)\n",
        "\n",
        "def partition(array, low, high):\n",
        "\n",
        "\tpivot = array[high]\n",
        "\n",
        "\ti = low - 1\n",
        "\tfor j in range(low, high):\n",
        "\t\tif array[j] <= pivot:\n",
        "\t\t\ti = i + 1\n",
        "\t\t\t(array[i], array[j]) = (array[j], array[i])\n",
        "\t(array[i + 1], array[high]) = (array[high], array[i + 1])\n",
        "\treturn i + 1\n",
        "\n",
        "\n",
        "def quickSort(array, low, high):\n",
        " t1 = time.time()\n",
        " if low < high:\n",
        " \n",
        "     pi = partition(array, low, high)\n",
        "     quickSort(array, low, pi - 1)\n",
        "     quickSort(array, pi + 1, high)\n",
        " t2 = time.time()\n",
        " return(t2-t1)\n",
        "\n",
        "def countingSort(arr, exp1):\n",
        " t1 = time.time()\n",
        " n = len(arr)\n",
        " \n",
        "\n",
        " output = [0] * (n)\n",
        " \n",
        " count = [0] * (10)\n",
        " for i in range(0, n):\n",
        "     index = (arr[i]/exp1)\n",
        "     count[int((index)%10)] += 1\n",
        " \n",
        " for i in range(1,10):\n",
        "     count[i] += count[i-1]\n",
        " \n",
        " \n",
        " i = n-1\n",
        " while i>=0:\n",
        "     index = (arr[i]/exp1)\n",
        "     output[ count[ int((index)%10) ] - 1] = arr[i]\n",
        "     count[int((index)%10)] -= 1\n",
        "     i -= 1\n",
        "\n",
        " i = 0\n",
        " for i in range(0,len(arr)):\n",
        "     arr[i] = output[i]\n",
        " t2 = time.time()\n",
        " return(t2-t1)\n",
        "\n",
        "def radixSort(arr):\n",
        " t1 = time.time()\n",
        " max1 = max(arr)\n",
        " exp = 1\n",
        " while max1/exp > 0:\n",
        "     countingSort(arr,exp)\n",
        "     exp *= 10\n",
        " t2 = time.time()\n",
        " return(t2-t1)\n",
        "\n",
        "def heapify(arr, N, i):\n",
        "  largest = i  \n",
        "  l = 2 * i + 1\n",
        "  r = 2 * i + 2\n",
        " \n",
        "  if l < N and arr[largest] < arr[l]:\n",
        "   largest = l\n",
        "\n",
        "  if r < N and arr[largest] < arr[r]:\n",
        "    largest = r\n",
        " \n",
        "  if largest != i:\n",
        "    arr[i], arr[largest] = arr[largest], arr[i]  # swap\n",
        "    heapify(arr, N, largest)\n",
        "\n",
        "def heapSort(arr):\n",
        "  t1=time.time()\n",
        "  N = len(arr)\n",
        "  for i in range(N//2 - 1, -1, -1):\n",
        "    heapify(arr, N, i)\n",
        " \n",
        "    # One by one extract elements\n",
        "  for i in range(N-1, 0, -1):\n",
        "    arr[i], arr[0] = arr[0], arr[i]  # swap\n",
        "    heapify(arr, i, 0)\n",
        "  t2=time.time()\n",
        "  return(t2-t1)"
      ],
      "metadata": {
        "id": "ACbmf0a49BoM"
      },
      "execution_count": null,
      "outputs": []
    },
    {
      "cell_type": "code",
      "source": [
        "\n",
        "arr1 = list()\n",
        "arr2 = list()\n",
        "arr3 = list()\n",
        "arr4 = list()\n",
        "arr5 = list()\n",
        "for i in range(0,1000) :\n",
        " arr1.append(r.randint(0,500000))\n",
        "\n",
        "for i in range(0,5000) :\n",
        " arr2.append(r.randint(0,500000))\n",
        "\n",
        "for i in range(0,10000) :\n",
        " arr3.append(r.randint(0,500000))\n",
        "\n",
        "for i in range(0,50000) :\n",
        " arr4.append(r.randint(0,500000))\n",
        "\n",
        "for i in range(0,100000) :\n",
        " arr5.append(r.randint(0,500000))\n"
      ],
      "metadata": {
        "id": "bOn5GPeff9su"
      },
      "execution_count": null,
      "outputs": []
    },
    {
      "cell_type": "code",
      "source": [
        "a = list()\n",
        "b = list()\n",
        "c = list()\n",
        "d = list()\n",
        "e = list()\n",
        "f = list()"
      ],
      "metadata": {
        "id": "PmXc2j2YkWOT"
      },
      "execution_count": null,
      "outputs": []
    },
    {
      "cell_type": "code",
      "source": [
        "a.append(bubbleSort(arr1))\n",
        "a.append(bubbleSort(arr2))\n",
        "a.append(bubbleSort(arr3))\n",
        "a.append(bubbleSort(arr4))\n",
        "a.append(bubbleSort(arr5))\n",
        "print(a)"
      ],
      "metadata": {
        "colab": {
          "base_uri": "https://localhost:8080/"
        },
        "id": "FjgYe__9f7LS",
        "outputId": "7fb81038-296d-488b-fa6c-65b072d7593e"
      },
      "execution_count": null,
      "outputs": [
        {
          "output_type": "stream",
          "name": "stdout",
          "text": [
            "[0.10475564002990723, 2.7969610691070557, 11.042598009109497, 324.2423233985901, 1331.206484079361]\n"
          ]
        }
      ]
    },
    {
      "cell_type": "code",
      "execution_count": null,
      "metadata": {
        "colab": {
          "base_uri": "https://localhost:8080/"
        },
        "id": "Mzal_Jq28uYq",
        "outputId": "19ba017e-97a4-4e3a-9649-8840e4586f1d"
      },
      "outputs": [
        {
          "output_type": "stream",
          "name": "stdout",
          "text": [
            "[0.00047779083251953125, 0.001650094985961914, 0.0028438568115234375, 0.017468690872192383, 0.03658866882324219]\n"
          ]
        }
      ],
      "source": [
        "b.append(insertion_sort(arr1))\n",
        "b.append(insertion_sort(arr2))\n",
        "b.append(insertion_sort(arr3))\n",
        "b.append(insertion_sort(arr4))\n",
        "b.append(insertion_sort(arr5))\n",
        "print(b)"
      ]
    },
    {
      "cell_type": "code",
      "source": [
        "c.append(radixSort(arr1))\n",
        "c.append(radixSort(arr2))\n",
        "c.append(radixSort(arr3))\n",
        "c.append(radixSort(arr4))\n",
        "c.append(radixSort(arr5))\n",
        "print(c)"
      ],
      "metadata": {
        "colab": {
          "base_uri": "https://localhost:8080/"
        },
        "id": "ziMkIXVE-UDn",
        "outputId": "71303a54-c0b6-4937-fab9-421724aa494c"
      },
      "execution_count": null,
      "outputs": [
        {
          "output_type": "stream",
          "name": "stdout",
          "text": [
            "[0.5281062126159668, 2.642793655395508, 5.315946817398071, 28.728735208511353, 59.977664947509766]\n"
          ]
        }
      ]
    },
    {
      "cell_type": "code",
      "source": [
        "d.append(selectionSort(arr1,len(arr1)))\n",
        "d.append(selectionSort(arr2,len(arr2)))\n",
        "d.append(selectionSort(arr3,len(arr3)))\n",
        "d.append(selectionSort(arr4,len(arr4)))\n",
        "d.append(selectionSort(arr5,len(arr5)))\n",
        "print(d)"
      ],
      "metadata": {
        "id": "18r52clNelaM",
        "colab": {
          "base_uri": "https://localhost:8080/"
        },
        "outputId": "7e3eaa56-5248-4b14-c8eb-6e9b7ceaa215"
      },
      "execution_count": null,
      "outputs": [
        {
          "output_type": "stream",
          "name": "stdout",
          "text": [
            "[0.04903864860534668, 1.0970487594604492, 4.373326301574707, 141.63927221298218, 862.2186806201935]\n"
          ]
        }
      ]
    },
    {
      "cell_type": "code",
      "source": [
        "e.append(quickSort(arr1,0,len(arr1)-1))\n",
        "e.append(quickSort(arr2,0,len(arr2)-1))\n",
        "e.append(quickSort(arr3,0,len(arr3)-1))\n",
        "e.append(quickSort(arr4,0,len(arr4)-1))\n",
        "e.append(quickSort(arr5,0,len(arr5)-1))\n",
        "print(e)"
      ],
      "metadata": {
        "id": "6zijlF7JV_MR"
      },
      "execution_count": null,
      "outputs": []
    },
    {
      "cell_type": "code",
      "source": [
        "f.append(shell_sort(arr1,len(arr1)))\n",
        "f.append(shell_sort(arr2,len(arr2)))\n",
        "f.append(shell_sort(arr3,len(arr3)))\n",
        "f.append(shell_sort(arr4,len(arr4)))\n",
        "f.append(shell_sort(arr5,len(arr5)))\n",
        "print(f)"
      ],
      "metadata": {
        "colab": {
          "base_uri": "https://localhost:8080/"
        },
        "id": "nmnyy_ZfZg1q",
        "outputId": "230a9b1a-b0fa-4495-ce74-a37bac255888"
      },
      "execution_count": null,
      "outputs": [
        {
          "output_type": "stream",
          "name": "stdout",
          "text": [
            "[0.00020456314086914062, 0.0009965896606445312, 0.001990079879760742, 0.012214183807373047, 0.013622522354125977]\n"
          ]
        }
      ]
    },
    {
      "cell_type": "code",
      "source": [
        "g=list()\n",
        "g.append(heapSort(arr1))\n",
        "g.append(heapSort(arr2))\n",
        "g.append(heapSort(arr3))\n",
        "g.append(heapSort(arr4))\n",
        "g.append(heapSort(arr5))\n",
        "print(g)"
      ],
      "metadata": {
        "colab": {
          "base_uri": "https://localhost:8080/"
        },
        "id": "YeE8MPf_rehP",
        "outputId": "156e8750-80c8-496d-ab49-4d95b9db0b1b"
      },
      "execution_count": null,
      "outputs": [
        {
          "output_type": "stream",
          "name": "stdout",
          "text": [
            "[0.012263298034667969, 0.044318437576293945, 0.08104276657104492, 0.49539780616760254, 1.072218894958496]\n"
          ]
        }
      ]
    },
    {
      "cell_type": "code",
      "source": [
        "x=[1000,5000,10000,50000,100000]\n",
        "plt.plot(x,b,label=\"Insertion Sort\")\n",
        "plt.plot(x,e,label=\"Quick Sort\")\n",
        "plt.plot(x,f,label=\"Shell Sort\")\n",
        "plt.plot(x,g,label=\"Heap Sort\")\n",
        "plt.title(\"Sorting Time Comparison\")\n",
        "plt.xlabel(\"Array size\")\n",
        "plt.ylabel(\"Time Taken (secs)\")\n",
        "plt.legend()"
      ],
      "metadata": {
        "id": "MM3luR0PfxqU",
        "colab": {
          "base_uri": "https://localhost:8080/",
          "height": 312
        },
        "outputId": "f782ac27-1fa0-40ba-a164-b5e552f204c1"
      },
      "execution_count": null,
      "outputs": [
        {
          "output_type": "execute_result",
          "data": {
            "text/plain": [
              "<matplotlib.legend.Legend at 0x7f63313967c0>"
            ]
          },
          "metadata": {},
          "execution_count": 85
        },
        {
          "output_type": "display_data",
          "data": {
            "text/plain": [
              "<Figure size 432x288 with 1 Axes>"
            ],
            "image/png": "[encoded data removed]"
          },
          "metadata": {
            "needs_background": "light"
          }
        }
      ]
    },
    {
      "cell_type": "code",
      "source": [
        "plt.plot(x,a,label=\"Bubble Sort\")\n",
        "plt.plot(x,c,label=\"Radix Sort\")\n",
        "plt.plot(x,d,label=\"Selection Sort\")\n",
        "plt.title(\"Sorting Time Comparison\")\n",
        "plt.xlabel(\"Array size\")\n",
        "plt.ylabel(\"Time Taken (secs)\")\n",
        "plt.legend()"
      ],
      "metadata": {
        "colab": {
          "base_uri": "https://localhost:8080/",
          "height": 312
        },
        "id": "NOte9DY4FwZs",
        "outputId": "b71d4951-2094-4a0e-eab9-376e254bff04"
      },
      "execution_count": null,
      "outputs": [
        {
          "output_type": "execute_result",
          "data": {
            "text/plain": [
              "<matplotlib.legend.Legend at 0x7f6330b72c70>"
            ]
          },
          "metadata": {},
          "execution_count": 76
        },
        {
          "output_type": "display_data",
          "data": {
            "text/plain": [
              "<Figure size 432x288 with 1 Axes>"
            ],
            "image/png": "[encoded data removed]"
          },
          "metadata": {
            "needs_background": "light"
          }
        }
      ]
    }
  ]
}